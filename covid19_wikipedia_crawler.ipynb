{
 "cells": [
  {
   "cell_type": "markdown",
   "metadata": {},
   "source": [
    "# COVID-19 - Creating a Crawler for get information from wikipedia"
   ]
  },
  {
   "cell_type": "code",
   "execution_count": 23,
   "metadata": {},
   "outputs": [],
   "source": [
    "# import the BeautifulSoup library so we can parse HTML and XML documents\n",
    "from bs4 import BeautifulSoup\n",
    "import urllib.request\n",
    "import warnings\n",
    "warnings.filterwarnings(\"ignore\")\n",
    "import pandas as pd\n",
    "pd.options.display.max_rows=1000\n",
    "import re"
   ]
  },
  {
   "cell_type": "markdown",
   "metadata": {},
   "source": [
    "## Trying to figure out what class we need to search in order to bring the table that we want"
   ]
  },
  {
   "cell_type": "code",
   "execution_count": 24,
   "metadata": {},
   "outputs": [],
   "source": [
    "# specify which URL/web page we are going to be scraping\n",
    "url = \"https://en.wikipedia.org/wiki/COVID-19_pandemic_in_Brazil\"\n",
    "\n",
    "# open the url using urllib.request and put the HTML into the page variable\n",
    "page = urllib.request.urlopen(url)\n",
    "\n",
    "# parse the HTML from our URL into the BeautifulSoup parse tree format\n",
    "soup = BeautifulSoup(page, \"lxml\")"
   ]
  },
  {
   "cell_type": "code",
   "execution_count": 25,
   "metadata": {},
   "outputs": [],
   "source": [
    "#print(soup.prettify())"
   ]
  },
  {
   "cell_type": "code",
   "execution_count": 26,
   "metadata": {},
   "outputs": [],
   "source": [
    "#print(soup.title.string)"
   ]
  },
  {
   "cell_type": "code",
   "execution_count": 27,
   "metadata": {},
   "outputs": [],
   "source": [
    "all_tables=soup.find_all(\"span\")\n",
    "#all_tables"
   ]
  },
  {
   "cell_type": "code",
   "execution_count": 28,
   "metadata": {},
   "outputs": [
    {
     "data": {
      "text/plain": [
       "<td class=\"bb-04em\" colspan=\"2\" style=\"text-align:center\">2020-02-26</td>"
      ]
     },
     "execution_count": 28,
     "metadata": {},
     "output_type": "execute_result"
    }
   ],
   "source": [
    "soup.find_all(\"td\", {\"class\":\"bb-04em\"})[0]"
   ]
  },
  {
   "cell_type": "code",
   "execution_count": 29,
   "metadata": {},
   "outputs": [],
   "source": [
    "#for table in soup.find_all(\"td\", {\"class\":\"bb-04em\"}):\n",
    "    #print(table)"
   ]
  },
  {
   "cell_type": "code",
   "execution_count": 30,
   "metadata": {
    "scrolled": true
   },
   "outputs": [
    {
     "data": {
      "text/plain": [
       "<span class=\"cbs-ibr\" style=\"padding:0 0.3em 0 0; width:3.5em\">1</span>"
      ]
     },
     "execution_count": 30,
     "metadata": {},
     "output_type": "execute_result"
    }
   ],
   "source": [
    "soup.find(\"span\", {\"class\": \"cbs-ibr\"})"
   ]
  },
  {
   "cell_type": "code",
   "execution_count": 31,
   "metadata": {},
   "outputs": [
    {
     "data": {
      "text/plain": [
       "'1'"
      ]
     },
     "execution_count": 31,
     "metadata": {},
     "output_type": "execute_result"
    }
   ],
   "source": [
    "soup.find(\"span\", {\"class\": \"cbs-ibr\"}).get_text(strip=True)"
   ]
  },
  {
   "cell_type": "code",
   "execution_count": 32,
   "metadata": {},
   "outputs": [],
   "source": [
    "#for table in soup.find_all(\"span\", {\"class\":\"cbs-ibl\"}):\n",
    "    #print(table)"
   ]
  },
  {
   "cell_type": "markdown",
   "metadata": {},
   "source": [
    "## Function to get information of wikipedia pages,process and create dataframe"
   ]
  },
  {
   "cell_type": "code",
   "execution_count": 33,
   "metadata": {},
   "outputs": [],
   "source": [
    "def create_df(url):\n",
    "\n",
    "    # specify which URL/web page we are going to be scraping\n",
    "    url = url\n",
    "\n",
    "    # open the url using urllib.request and put the HTML into the page variable\n",
    "    page = urllib.request.urlopen(url)\n",
    "\n",
    "    # parse the HTML from our URL into the BeautifulSoup parse tree format\n",
    "    soup = BeautifulSoup(page, \"lxml\")\n",
    "    \n",
    "    # creating list for store the dates found in class bb-04em\n",
    "    list_dates = []\n",
    "    for table in soup.find_all(\"td\", {\"class\":\"bb-04em\"}):\n",
    "        list_dates.append(str(table))\n",
    "        \n",
    "    list_dates_values = []\n",
    "    for i in list_dates:\n",
    "        date = re.search(r'>(.*?)<', i)\n",
    "        list_dates_values.append(date.group(1))\n",
    "\n",
    "    from itertools import compress\n",
    "\n",
    "    list_dates_values_2 = []\n",
    "    for i in list_dates_values:\n",
    "        date2 = i.startswith(tuple(['2020','⋮']))\n",
    "        list_dates_values_2.append(date2)\n",
    "\n",
    "    list_dates_final = list(compress(list_dates_values, list_dates_values_2))\n",
    "\n",
    "    # creating list for store the amount of COVID-19 cases found in class cbs-ibr\n",
    "    list_ibr = []\n",
    "    for table in soup.find_all(\"span\", {\"class\":\"cbs-ibr\"}):\n",
    "        list_ibr.append(str(table))\n",
    "\n",
    "    list_ibr_values = []\n",
    "    for i in list_ibr:\n",
    "        number = re.search(r'>(.*?)<', i)\n",
    "        list_ibr_values.append(number.group(1))\n",
    "    \n",
    "    list_ibr_cases = list_ibr_values[0::2]\n",
    "    list_ibr_deaths = list_ibr_values[1::2]\n",
    "\n",
    "    # creating list for store the amount of COVID-19 deaths found in class cbs-ibr\n",
    "    list_ibl = []\n",
    "    for table in soup.find_all(\"span\", {\"class\":\"cbs-ibl\"}):\n",
    "        list_ibl.append(str(table))\n",
    "\n",
    "    list_ibl_values = []\n",
    "    for i in list_ibl:\n",
    "        number = re.search(r'>(.*?)<', i)\n",
    "        list_ibl_values.append(number.group(1))\n",
    "\n",
    "    pct_increased_cases = list_ibl_values[0::2]\n",
    "    pct_increased_deaths = list_ibl_values[1::2]\n",
    "    \n",
    "    # creating the dataframe with the values that we got before\n",
    "    df = pd.DataFrame(data={'Date':list_dates_final,\n",
    "                            '# Cases':list_ibr_cases, \n",
    "                            '% Increase in Cases': pct_increased_cases,\n",
    "                            '# Deaths': list_ibr_deaths,\n",
    "                            '% Increase in Deaths': pct_increased_deaths\n",
    "                           })\n",
    "\n",
    "    return df"
   ]
  },
  {
   "cell_type": "markdown",
   "metadata": {},
   "source": [
    "## Brazil and USA cases of COVID-19 "
   ]
  },
  {
   "cell_type": "code",
   "execution_count": 34,
   "metadata": {},
   "outputs": [
    {
     "name": "stdout",
     "output_type": "stream",
     "text": [
      "(74, 5)\n"
     ]
    }
   ],
   "source": [
    "url_br = \"https://en.wikipedia.org/wiki/COVID-19_pandemic_in_Brazil\"\n",
    "df_br = create_df(url_br)\n",
    "df_br.head()\n",
    "print(df_br.shape)"
   ]
  },
  {
   "cell_type": "code",
   "execution_count": 35,
   "metadata": {},
   "outputs": [
    {
     "name": "stdout",
     "output_type": "stream",
     "text": [
      "(95, 5)\n"
     ]
    }
   ],
   "source": [
    "url_usa = \"https://en.wikipedia.org/wiki/COVID-19_pandemic_in_the_United_States\"\n",
    "df_usa = create_df(url_usa)\n",
    "df_usa.head()\n",
    "print(df_usa.shape)"
   ]
  },
  {
   "cell_type": "markdown",
   "metadata": {},
   "source": [
    "## Dataprep for create the graphs"
   ]
  },
  {
   "cell_type": "markdown",
   "metadata": {},
   "source": [
    "### Selecting the same period"
   ]
  },
  {
   "cell_type": "code",
   "execution_count": 36,
   "metadata": {},
   "outputs": [
    {
     "name": "stdout",
     "output_type": "stream",
     "text": [
      "(70, 5)\n",
      "(70, 5)\n"
     ]
    }
   ],
   "source": [
    "df_br = df_br[4:]\n",
    "df_br.head()\n",
    "print(df_br.shape)\n",
    "\n",
    "df_usa = df_usa[25:]\n",
    "df_usa.head()\n",
    "print(df_usa.shape)\n"
   ]
  },
  {
   "cell_type": "markdown",
   "metadata": {},
   "source": [
    "### Transforming date object in datetime"
   ]
  },
  {
   "cell_type": "code",
   "execution_count": 37,
   "metadata": {},
   "outputs": [],
   "source": [
    "df_br['Date'] = pd.to_datetime(df_br['Date'])\n",
    "df_usa['Date'] = pd.to_datetime(df_usa['Date'])"
   ]
  },
  {
   "cell_type": "markdown",
   "metadata": {},
   "source": [
    "### Replacing the empty death cases of Brazil to zero"
   ]
  },
  {
   "cell_type": "code",
   "execution_count": 38,
   "metadata": {},
   "outputs": [],
   "source": [
    "df_br['# Deaths'][:13] = df_br['# Deaths'][:13].str.replace('', '0')"
   ]
  },
  {
   "cell_type": "markdown",
   "metadata": {},
   "source": [
    "### Replacing comma and Transforming strings in int "
   ]
  },
  {
   "cell_type": "code",
   "execution_count": 39,
   "metadata": {},
   "outputs": [],
   "source": [
    "df_br['# Deaths'] = df_br['# Deaths'].str.replace(',', '')\n",
    "df_br['# Deaths'] = df_br['# Deaths'].astype(int)\n",
    "\n",
    "df_br['# Cases'] = df_br['# Cases'].str.replace(',', '')\n",
    "df_br['# Cases'] = df_br['# Cases'].astype(int)\n",
    "\n",
    "df_usa['# Deaths'] = df_usa['# Deaths'].str.replace(',', '')\n",
    "df_usa['# Deaths'] = df_usa['# Deaths'].astype(int)\n",
    "\n",
    "df_usa['# Cases'] = df_usa['# Cases'].str.replace(',', '')\n",
    "df_usa['# Cases'] = df_usa['# Cases'].astype(int)"
   ]
  },
  {
   "cell_type": "markdown",
   "metadata": {},
   "source": [
    "## Graph creation"
   ]
  },
  {
   "cell_type": "code",
   "execution_count": 40,
   "metadata": {},
   "outputs": [],
   "source": [
    "%matplotlib notebook\n",
    "%matplotlib inline\n",
    "\n",
    "import matplotlib.pyplot as plt\n",
    "import matplotlib.dates as dates\n",
    "import matplotlib.ticker as ticker\n",
    "\n",
    "import pandas as pd\n",
    "import numpy as np"
   ]
  },
  {
   "cell_type": "code",
   "execution_count": 41,
   "metadata": {},
   "outputs": [
    {
     "data": {
      "text/plain": [
       "<matplotlib.collections.LineCollection at 0x7f3f6df6ba90>"
      ]
     },
     "execution_count": 41,
     "metadata": {},
     "output_type": "execute_result"
    },
    {
     "data": {
      "image/png": "[encoded data removed]",
      "text/plain": [
       "<Figure size 1152x576 with 1 Axes>"
      ]
     },
     "metadata": {
      "needs_background": "light"
     },
     "output_type": "display_data"
    }
   ],
   "source": [
    "date_index = np.arange('2020-03-04','2020-05-13', dtype='datetime64[D]')\n",
    "\n",
    "plt.figure(figsize=(16, 8))\n",
    "\n",
    "plt.plot(date_index,df_br['# Cases'],color='blue', linewidth=2, alpha=1) \n",
    "plt.plot(date_index,df_usa['# Cases'],color='red', linewidth=2, alpha=1)\n",
    "plt.scatter(date_index,df_br['# Deaths'], color='blue', s=10, marker='_')\n",
    "plt.scatter(date_index,df_usa['# Deaths'], color='red', s=10, marker='+')\n",
    "\n",
    "ax = plt.gca()\n",
    "ax.axis(['2020-03-04','2020-05-11',0,1500000])\n",
    "\n",
    "plt.xlabel('Month', fontsize=12)\n",
    "plt.ylabel('Number of COVID-19 cases', fontsize=12)\n",
    "plt.title('Comparison between COVID-19 cases in Brazil vs United States in the period of 03/apr - 12/may',\n",
    "          size=20, \n",
    "          alpha=0.8, \n",
    "          pad=40)\n",
    "plt.legend(['# Cases in Brasil','# Cases in USA','# Deaths in Brasil','# Deaths in USA'],frameon=False)\n",
    "  \n",
    "ax.fill_between(date_index, df_br['# Cases'], df_usa['# Cases'], facecolor='lightgreen', alpha=0.25)\n",
    "\n",
    "ax.xaxis.set_major_locator(dates.MonthLocator())\n",
    "ax.xaxis.set_minor_locator(dates.MonthLocator(bymonthday=15))\n",
    "ax.xaxis.set_major_formatter(ticker.NullFormatter())\n",
    "ax.xaxis.set_minor_formatter(dates.DateFormatter('%b'))\n",
    "\n",
    "ax.set_facecolor('white')\n",
    "\n",
    "for tick in ax.xaxis.get_minor_ticks():\n",
    "    tick.tick1line.set_markersize(0)\n",
    "    tick.label1.set_horizontalalignment('center')\n",
    "    \n",
    "for spine in ax.spines.values():\n",
    "    spine.set_visible(False)\n",
    "pos = [200000,400000, 600000, 800000, 1000000, 1200000, 1400000]\n",
    "plt.hlines(pos, *ax.get_xlim(), color='b', linestyles='--', lw=0.3, alpha=0.2)\n"
   ]
  },
  {
   "cell_type": "markdown",
   "metadata": {},
   "source": [
    "This comparison is with a fixed date period, which is between 03/04/2020-12/05/2020. For this reason, it is necessary to have in mind that the COVID-19 cases starts before on USA than in Brazil, so it is not possible to compare as they start in the same day. THe graph above shows that we can mislead the reader if we do not provide and clarify all the informations."
   ]
  }
 ],
 "metadata": {
  "kernelspec": {
   "display_name": "Python 3",
   "language": "python",
   "name": "python3"
  },
  "language_info": {
   "codemirror_mode": {
    "name": "ipython",
    "version": 3
   },
   "file_extension": ".py",
   "mimetype": "text/x-python",
   "name": "python",
   "nbconvert_exporter": "python",
   "pygments_lexer": "ipython3",
   "version": "3.7.4"
  }
 },
 "nbformat": 4,
 "nbformat_minor": 2
}
